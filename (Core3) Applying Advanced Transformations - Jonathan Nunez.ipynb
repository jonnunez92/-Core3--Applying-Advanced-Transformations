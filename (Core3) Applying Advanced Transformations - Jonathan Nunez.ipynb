{
 "cells": [
  {
   "cell_type": "markdown",
   "id": "ed7d63df",
   "metadata": {},
   "source": [
    "# Load Libraries/Data"
   ]
  },
  {
   "cell_type": "code",
   "execution_count": 1,
   "id": "ff2fb009",
   "metadata": {},
   "outputs": [],
   "source": [
    "## Standard Imports\n",
    "import numpy as np\n",
    "import pandas as pd\n",
    "import matplotlib.pyplot as plt\n",
    "import seaborn as sns\n",
    "## Importing the OS and JSON Modules\n",
    "import os,json\n",
    "\n",
    "import warnings\n",
    "warnings.filterwarnings('ignore')"
   ]
  },
  {
   "cell_type": "code",
   "execution_count": 2,
   "id": "86f922f2",
   "metadata": {},
   "outputs": [
    {
     "data": {
      "text/html": [
       "<div>\n",
       "<style scoped>\n",
       "    .dataframe tbody tr th:only-of-type {\n",
       "        vertical-align: middle;\n",
       "    }\n",
       "\n",
       "    .dataframe tbody tr th {\n",
       "        vertical-align: top;\n",
       "    }\n",
       "\n",
       "    .dataframe thead th {\n",
       "        text-align: right;\n",
       "    }\n",
       "</style>\n",
       "<table border=\"1\" class=\"dataframe\">\n",
       "  <thead>\n",
       "    <tr style=\"text-align: right;\">\n",
       "      <th></th>\n",
       "      <th>Hero|Publisher</th>\n",
       "      <th>Gender</th>\n",
       "      <th>Race</th>\n",
       "      <th>Alignment</th>\n",
       "      <th>Hair color</th>\n",
       "      <th>Eye color</th>\n",
       "      <th>Skin color</th>\n",
       "      <th>Measurements</th>\n",
       "    </tr>\n",
       "  </thead>\n",
       "  <tbody>\n",
       "    <tr>\n",
       "      <th>0</th>\n",
       "      <td>A-Bomb|Marvel Comics</td>\n",
       "      <td>Male</td>\n",
       "      <td>Human</td>\n",
       "      <td>good</td>\n",
       "      <td>No Hair</td>\n",
       "      <td>yellow</td>\n",
       "      <td>Unknown</td>\n",
       "      <td>{'Height': '203.0 cm', 'Weight': '441.0 kg'}</td>\n",
       "    </tr>\n",
       "    <tr>\n",
       "      <th>1</th>\n",
       "      <td>Abe Sapien|Dark Horse Comics</td>\n",
       "      <td>Male</td>\n",
       "      <td>Icthyo Sapien</td>\n",
       "      <td>good</td>\n",
       "      <td>No Hair</td>\n",
       "      <td>blue</td>\n",
       "      <td>blue</td>\n",
       "      <td>{'Height': '191.0 cm', 'Weight': '65.0 kg'}</td>\n",
       "    </tr>\n",
       "  </tbody>\n",
       "</table>\n",
       "</div>"
      ],
      "text/plain": [
       "                 Hero|Publisher Gender           Race Alignment Hair color  \\\n",
       "0          A-Bomb|Marvel Comics   Male          Human      good    No Hair   \n",
       "1  Abe Sapien|Dark Horse Comics   Male  Icthyo Sapien      good    No Hair   \n",
       "\n",
       "  Eye color Skin color                                  Measurements  \n",
       "0    yellow    Unknown  {'Height': '203.0 cm', 'Weight': '441.0 kg'}  \n",
       "1      blue       blue   {'Height': '191.0 cm', 'Weight': '65.0 kg'}  "
      ]
     },
     "execution_count": 2,
     "metadata": {},
     "output_type": "execute_result"
    }
   ],
   "source": [
    "df_info = pd.read_csv('Data/superhero_info.csv')\n",
    "df_info.head(2)"
   ]
  },
  {
   "cell_type": "code",
   "execution_count": 3,
   "id": "089f083e",
   "metadata": {},
   "outputs": [
    {
     "data": {
      "text/html": [
       "<div>\n",
       "<style scoped>\n",
       "    .dataframe tbody tr th:only-of-type {\n",
       "        vertical-align: middle;\n",
       "    }\n",
       "\n",
       "    .dataframe tbody tr th {\n",
       "        vertical-align: top;\n",
       "    }\n",
       "\n",
       "    .dataframe thead th {\n",
       "        text-align: right;\n",
       "    }\n",
       "</style>\n",
       "<table border=\"1\" class=\"dataframe\">\n",
       "  <thead>\n",
       "    <tr style=\"text-align: right;\">\n",
       "      <th></th>\n",
       "      <th>hero_names</th>\n",
       "      <th>Powers</th>\n",
       "    </tr>\n",
       "  </thead>\n",
       "  <tbody>\n",
       "    <tr>\n",
       "      <th>0</th>\n",
       "      <td>3-D Man</td>\n",
       "      <td>Agility,Super Strength,Stamina,Super Speed</td>\n",
       "    </tr>\n",
       "    <tr>\n",
       "      <th>1</th>\n",
       "      <td>A-Bomb</td>\n",
       "      <td>Accelerated Healing,Durability,Longevity,Super...</td>\n",
       "    </tr>\n",
       "  </tbody>\n",
       "</table>\n",
       "</div>"
      ],
      "text/plain": [
       "  hero_names                                             Powers\n",
       "0    3-D Man         Agility,Super Strength,Stamina,Super Speed\n",
       "1     A-Bomb  Accelerated Healing,Durability,Longevity,Super..."
      ]
     },
     "execution_count": 3,
     "metadata": {},
     "output_type": "execute_result"
    }
   ],
   "source": [
    "df_powers = pd.read_csv('Data/superhero_powers.csv')\n",
    "df_powers.head(2)"
   ]
  },
  {
   "cell_type": "markdown",
   "id": "6e3e5e47",
   "metadata": {},
   "source": [
    "# Part 1: Clean Files and Combine Into One DataFrame\n",
    "\n",
    "This dataframe should have the following columns:\n",
    "- Hero (Just the name of the Hero)\n",
    "- Publisher\n",
    "- Gender\n",
    "- Eye color\n",
    "- Race\n",
    "- Hair color\n",
    "- Height (numeric)\n",
    "- Skin color\n",
    "- Alignment\n",
    "- Weight (numeric)\n",
    "- Plus, one-hot-encoded columns for every power that appears in the dataset. E.g.:\n",
    "    - Agility\n",
    "    - Flight\n",
    "    - Superspeed\n",
    "    - etc.\n",
    "- Hint: There is a space in \"100 kg\" or \"52.5 cm\""
   ]
  },
  {
   "cell_type": "markdown",
   "id": "c95f531b",
   "metadata": {},
   "source": [
    "## Superhero_Info DataFrame"
   ]
  },
  {
   "cell_type": "markdown",
   "id": "dfea1233",
   "metadata": {},
   "source": [
    "### Split 'Hero|Publisher' Column"
   ]
  },
  {
   "cell_type": "code",
   "execution_count": 4,
   "id": "2d97f26a",
   "metadata": {},
   "outputs": [
    {
     "data": {
      "text/html": [
       "<div>\n",
       "<style scoped>\n",
       "    .dataframe tbody tr th:only-of-type {\n",
       "        vertical-align: middle;\n",
       "    }\n",
       "\n",
       "    .dataframe tbody tr th {\n",
       "        vertical-align: top;\n",
       "    }\n",
       "\n",
       "    .dataframe thead th {\n",
       "        text-align: right;\n",
       "    }\n",
       "</style>\n",
       "<table border=\"1\" class=\"dataframe\">\n",
       "  <thead>\n",
       "    <tr style=\"text-align: right;\">\n",
       "      <th></th>\n",
       "      <th>Hero|Publisher</th>\n",
       "      <th>Gender</th>\n",
       "      <th>Race</th>\n",
       "      <th>Alignment</th>\n",
       "      <th>Hair color</th>\n",
       "      <th>Eye color</th>\n",
       "      <th>Skin color</th>\n",
       "      <th>Measurements</th>\n",
       "      <th>Hero</th>\n",
       "      <th>Publisher</th>\n",
       "    </tr>\n",
       "  </thead>\n",
       "  <tbody>\n",
       "    <tr>\n",
       "      <th>0</th>\n",
       "      <td>A-Bomb|Marvel Comics</td>\n",
       "      <td>Male</td>\n",
       "      <td>Human</td>\n",
       "      <td>good</td>\n",
       "      <td>No Hair</td>\n",
       "      <td>yellow</td>\n",
       "      <td>Unknown</td>\n",
       "      <td>{'Height': '203.0 cm', 'Weight': '441.0 kg'}</td>\n",
       "      <td>A-Bomb</td>\n",
       "      <td>Marvel Comics</td>\n",
       "    </tr>\n",
       "    <tr>\n",
       "      <th>1</th>\n",
       "      <td>Abe Sapien|Dark Horse Comics</td>\n",
       "      <td>Male</td>\n",
       "      <td>Icthyo Sapien</td>\n",
       "      <td>good</td>\n",
       "      <td>No Hair</td>\n",
       "      <td>blue</td>\n",
       "      <td>blue</td>\n",
       "      <td>{'Height': '191.0 cm', 'Weight': '65.0 kg'}</td>\n",
       "      <td>Abe Sapien</td>\n",
       "      <td>Dark Horse Comics</td>\n",
       "    </tr>\n",
       "    <tr>\n",
       "      <th>2</th>\n",
       "      <td>Abin Sur|DC Comics</td>\n",
       "      <td>Male</td>\n",
       "      <td>Ungaran</td>\n",
       "      <td>good</td>\n",
       "      <td>No Hair</td>\n",
       "      <td>blue</td>\n",
       "      <td>red</td>\n",
       "      <td>{'Height': '185.0 cm', 'Weight': '90.0 kg'}</td>\n",
       "      <td>Abin Sur</td>\n",
       "      <td>DC Comics</td>\n",
       "    </tr>\n",
       "    <tr>\n",
       "      <th>3</th>\n",
       "      <td>Abomination|Marvel Comics</td>\n",
       "      <td>Male</td>\n",
       "      <td>Human / Radiation</td>\n",
       "      <td>bad</td>\n",
       "      <td>No Hair</td>\n",
       "      <td>green</td>\n",
       "      <td>Unknown</td>\n",
       "      <td>{'Height': '203.0 cm', 'Weight': '441.0 kg'}</td>\n",
       "      <td>Abomination</td>\n",
       "      <td>Marvel Comics</td>\n",
       "    </tr>\n",
       "    <tr>\n",
       "      <th>4</th>\n",
       "      <td>Absorbing Man|Marvel Comics</td>\n",
       "      <td>Male</td>\n",
       "      <td>Human</td>\n",
       "      <td>bad</td>\n",
       "      <td>No Hair</td>\n",
       "      <td>blue</td>\n",
       "      <td>Unknown</td>\n",
       "      <td>{'Height': '193.0 cm', 'Weight': '122.0 kg'}</td>\n",
       "      <td>Absorbing Man</td>\n",
       "      <td>Marvel Comics</td>\n",
       "    </tr>\n",
       "    <tr>\n",
       "      <th>...</th>\n",
       "      <td>...</td>\n",
       "      <td>...</td>\n",
       "      <td>...</td>\n",
       "      <td>...</td>\n",
       "      <td>...</td>\n",
       "      <td>...</td>\n",
       "      <td>...</td>\n",
       "      <td>...</td>\n",
       "      <td>...</td>\n",
       "      <td>...</td>\n",
       "    </tr>\n",
       "    <tr>\n",
       "      <th>458</th>\n",
       "      <td>Yellowjacket|Marvel Comics</td>\n",
       "      <td>Male</td>\n",
       "      <td>Human</td>\n",
       "      <td>good</td>\n",
       "      <td>Blond</td>\n",
       "      <td>blue</td>\n",
       "      <td>Unknown</td>\n",
       "      <td>{'Height': '183.0 cm', 'Weight': '83.0 kg'}</td>\n",
       "      <td>Yellowjacket</td>\n",
       "      <td>Marvel Comics</td>\n",
       "    </tr>\n",
       "    <tr>\n",
       "      <th>459</th>\n",
       "      <td>Yellowjacket II|Marvel Comics</td>\n",
       "      <td>Female</td>\n",
       "      <td>Human</td>\n",
       "      <td>good</td>\n",
       "      <td>Strawberry Blond</td>\n",
       "      <td>blue</td>\n",
       "      <td>Unknown</td>\n",
       "      <td>{'Height': '165.0 cm', 'Weight': '52.0 kg'}</td>\n",
       "      <td>Yellowjacket II</td>\n",
       "      <td>Marvel Comics</td>\n",
       "    </tr>\n",
       "    <tr>\n",
       "      <th>460</th>\n",
       "      <td>Yoda|George Lucas</td>\n",
       "      <td>Male</td>\n",
       "      <td>Yoda's species</td>\n",
       "      <td>good</td>\n",
       "      <td>White</td>\n",
       "      <td>brown</td>\n",
       "      <td>green</td>\n",
       "      <td>{'Height': '66.0 cm', 'Weight': '17.0 kg'}</td>\n",
       "      <td>Yoda</td>\n",
       "      <td>George Lucas</td>\n",
       "    </tr>\n",
       "    <tr>\n",
       "      <th>461</th>\n",
       "      <td>Zatanna|DC Comics</td>\n",
       "      <td>Female</td>\n",
       "      <td>Human</td>\n",
       "      <td>good</td>\n",
       "      <td>Black</td>\n",
       "      <td>blue</td>\n",
       "      <td>Unknown</td>\n",
       "      <td>{'Height': '170.0 cm', 'Weight': '57.0 kg'}</td>\n",
       "      <td>Zatanna</td>\n",
       "      <td>DC Comics</td>\n",
       "    </tr>\n",
       "    <tr>\n",
       "      <th>462</th>\n",
       "      <td>Zoom|DC Comics</td>\n",
       "      <td>Male</td>\n",
       "      <td>Unknown</td>\n",
       "      <td>bad</td>\n",
       "      <td>Brown</td>\n",
       "      <td>red</td>\n",
       "      <td>Unknown</td>\n",
       "      <td>{'Height': '185.0 cm', 'Weight': '81.0 kg'}</td>\n",
       "      <td>Zoom</td>\n",
       "      <td>DC Comics</td>\n",
       "    </tr>\n",
       "  </tbody>\n",
       "</table>\n",
       "<p>463 rows × 10 columns</p>\n",
       "</div>"
      ],
      "text/plain": [
       "                    Hero|Publisher  Gender               Race Alignment  \\\n",
       "0             A-Bomb|Marvel Comics    Male              Human      good   \n",
       "1     Abe Sapien|Dark Horse Comics    Male      Icthyo Sapien      good   \n",
       "2               Abin Sur|DC Comics    Male            Ungaran      good   \n",
       "3        Abomination|Marvel Comics    Male  Human / Radiation       bad   \n",
       "4      Absorbing Man|Marvel Comics    Male              Human       bad   \n",
       "..                             ...     ...                ...       ...   \n",
       "458     Yellowjacket|Marvel Comics    Male              Human      good   \n",
       "459  Yellowjacket II|Marvel Comics  Female              Human      good   \n",
       "460              Yoda|George Lucas    Male     Yoda's species      good   \n",
       "461              Zatanna|DC Comics  Female              Human      good   \n",
       "462                 Zoom|DC Comics    Male            Unknown       bad   \n",
       "\n",
       "           Hair color Eye color Skin color  \\\n",
       "0             No Hair    yellow    Unknown   \n",
       "1             No Hair      blue       blue   \n",
       "2             No Hair      blue        red   \n",
       "3             No Hair     green    Unknown   \n",
       "4             No Hair      blue    Unknown   \n",
       "..                ...       ...        ...   \n",
       "458             Blond      blue    Unknown   \n",
       "459  Strawberry Blond      blue    Unknown   \n",
       "460             White     brown      green   \n",
       "461             Black      blue    Unknown   \n",
       "462             Brown       red    Unknown   \n",
       "\n",
       "                                     Measurements             Hero  \\\n",
       "0    {'Height': '203.0 cm', 'Weight': '441.0 kg'}           A-Bomb   \n",
       "1     {'Height': '191.0 cm', 'Weight': '65.0 kg'}       Abe Sapien   \n",
       "2     {'Height': '185.0 cm', 'Weight': '90.0 kg'}         Abin Sur   \n",
       "3    {'Height': '203.0 cm', 'Weight': '441.0 kg'}      Abomination   \n",
       "4    {'Height': '193.0 cm', 'Weight': '122.0 kg'}    Absorbing Man   \n",
       "..                                            ...              ...   \n",
       "458   {'Height': '183.0 cm', 'Weight': '83.0 kg'}     Yellowjacket   \n",
       "459   {'Height': '165.0 cm', 'Weight': '52.0 kg'}  Yellowjacket II   \n",
       "460    {'Height': '66.0 cm', 'Weight': '17.0 kg'}             Yoda   \n",
       "461   {'Height': '170.0 cm', 'Weight': '57.0 kg'}          Zatanna   \n",
       "462   {'Height': '185.0 cm', 'Weight': '81.0 kg'}             Zoom   \n",
       "\n",
       "             Publisher  \n",
       "0        Marvel Comics  \n",
       "1    Dark Horse Comics  \n",
       "2            DC Comics  \n",
       "3        Marvel Comics  \n",
       "4        Marvel Comics  \n",
       "..                 ...  \n",
       "458      Marvel Comics  \n",
       "459      Marvel Comics  \n",
       "460       George Lucas  \n",
       "461          DC Comics  \n",
       "462          DC Comics  \n",
       "\n",
       "[463 rows x 10 columns]"
      ]
     },
     "execution_count": 4,
     "metadata": {},
     "output_type": "execute_result"
    }
   ],
   "source": [
    "df_info[['Hero', 'Publisher']] = df_info['Hero|Publisher'].str.split('|', expand=True)\n",
    "df_info"
   ]
  },
  {
   "cell_type": "code",
   "execution_count": 5,
   "id": "c5386103",
   "metadata": {},
   "outputs": [
    {
     "data": {
      "text/html": [
       "<div>\n",
       "<style scoped>\n",
       "    .dataframe tbody tr th:only-of-type {\n",
       "        vertical-align: middle;\n",
       "    }\n",
       "\n",
       "    .dataframe tbody tr th {\n",
       "        vertical-align: top;\n",
       "    }\n",
       "\n",
       "    .dataframe thead th {\n",
       "        text-align: right;\n",
       "    }\n",
       "</style>\n",
       "<table border=\"1\" class=\"dataframe\">\n",
       "  <thead>\n",
       "    <tr style=\"text-align: right;\">\n",
       "      <th></th>\n",
       "      <th>Gender</th>\n",
       "      <th>Race</th>\n",
       "      <th>Alignment</th>\n",
       "      <th>Hair color</th>\n",
       "      <th>Eye color</th>\n",
       "      <th>Skin color</th>\n",
       "      <th>Measurements</th>\n",
       "      <th>Hero</th>\n",
       "      <th>Publisher</th>\n",
       "    </tr>\n",
       "  </thead>\n",
       "  <tbody>\n",
       "    <tr>\n",
       "      <th>0</th>\n",
       "      <td>Male</td>\n",
       "      <td>Human</td>\n",
       "      <td>good</td>\n",
       "      <td>No Hair</td>\n",
       "      <td>yellow</td>\n",
       "      <td>Unknown</td>\n",
       "      <td>{'Height': '203.0 cm', 'Weight': '441.0 kg'}</td>\n",
       "      <td>A-Bomb</td>\n",
       "      <td>Marvel Comics</td>\n",
       "    </tr>\n",
       "    <tr>\n",
       "      <th>1</th>\n",
       "      <td>Male</td>\n",
       "      <td>Icthyo Sapien</td>\n",
       "      <td>good</td>\n",
       "      <td>No Hair</td>\n",
       "      <td>blue</td>\n",
       "      <td>blue</td>\n",
       "      <td>{'Height': '191.0 cm', 'Weight': '65.0 kg'}</td>\n",
       "      <td>Abe Sapien</td>\n",
       "      <td>Dark Horse Comics</td>\n",
       "    </tr>\n",
       "  </tbody>\n",
       "</table>\n",
       "</div>"
      ],
      "text/plain": [
       "  Gender           Race Alignment Hair color Eye color Skin color  \\\n",
       "0   Male          Human      good    No Hair    yellow    Unknown   \n",
       "1   Male  Icthyo Sapien      good    No Hair      blue       blue   \n",
       "\n",
       "                                   Measurements        Hero          Publisher  \n",
       "0  {'Height': '203.0 cm', 'Weight': '441.0 kg'}      A-Bomb      Marvel Comics  \n",
       "1   {'Height': '191.0 cm', 'Weight': '65.0 kg'}  Abe Sapien  Dark Horse Comics  "
      ]
     },
     "execution_count": 5,
     "metadata": {},
     "output_type": "execute_result"
    }
   ],
   "source": [
    "# drop original column\n",
    "df_info.drop(columns='Hero|Publisher', inplace=True)\n",
    "df_info.head(2)"
   ]
  },
  {
   "cell_type": "markdown",
   "id": "2cd5881d",
   "metadata": {},
   "source": [
    "### Set 'Hero' and 'Publisher' as First and Second Column"
   ]
  },
  {
   "cell_type": "code",
   "execution_count": 6,
   "id": "fd309b85",
   "metadata": {},
   "outputs": [
    {
     "name": "stdout",
     "output_type": "stream",
     "text": [
      "['Gender', 'Race', 'Alignment', 'Hair color', 'Eye color', 'Skin color', 'Measurements', 'Hero', 'Publisher']\n"
     ]
    }
   ],
   "source": [
    "print(list(df_info.columns))"
   ]
  },
  {
   "cell_type": "code",
   "execution_count": 7,
   "id": "0c09d1ef",
   "metadata": {},
   "outputs": [
    {
     "data": {
      "text/html": [
       "<div>\n",
       "<style scoped>\n",
       "    .dataframe tbody tr th:only-of-type {\n",
       "        vertical-align: middle;\n",
       "    }\n",
       "\n",
       "    .dataframe tbody tr th {\n",
       "        vertical-align: top;\n",
       "    }\n",
       "\n",
       "    .dataframe thead th {\n",
       "        text-align: right;\n",
       "    }\n",
       "</style>\n",
       "<table border=\"1\" class=\"dataframe\">\n",
       "  <thead>\n",
       "    <tr style=\"text-align: right;\">\n",
       "      <th></th>\n",
       "      <th>Hero</th>\n",
       "      <th>Publisher</th>\n",
       "      <th>Gender</th>\n",
       "      <th>Race</th>\n",
       "      <th>Alignment</th>\n",
       "      <th>Hair color</th>\n",
       "      <th>Eye color</th>\n",
       "      <th>Skin color</th>\n",
       "      <th>Measurements</th>\n",
       "    </tr>\n",
       "  </thead>\n",
       "  <tbody>\n",
       "    <tr>\n",
       "      <th>0</th>\n",
       "      <td>A-Bomb</td>\n",
       "      <td>Marvel Comics</td>\n",
       "      <td>Male</td>\n",
       "      <td>Human</td>\n",
       "      <td>good</td>\n",
       "      <td>No Hair</td>\n",
       "      <td>yellow</td>\n",
       "      <td>Unknown</td>\n",
       "      <td>{'Height': '203.0 cm', 'Weight': '441.0 kg'}</td>\n",
       "    </tr>\n",
       "    <tr>\n",
       "      <th>1</th>\n",
       "      <td>Abe Sapien</td>\n",
       "      <td>Dark Horse Comics</td>\n",
       "      <td>Male</td>\n",
       "      <td>Icthyo Sapien</td>\n",
       "      <td>good</td>\n",
       "      <td>No Hair</td>\n",
       "      <td>blue</td>\n",
       "      <td>blue</td>\n",
       "      <td>{'Height': '191.0 cm', 'Weight': '65.0 kg'}</td>\n",
       "    </tr>\n",
       "  </tbody>\n",
       "</table>\n",
       "</div>"
      ],
      "text/plain": [
       "         Hero          Publisher Gender           Race Alignment Hair color  \\\n",
       "0      A-Bomb      Marvel Comics   Male          Human      good    No Hair   \n",
       "1  Abe Sapien  Dark Horse Comics   Male  Icthyo Sapien      good    No Hair   \n",
       "\n",
       "  Eye color Skin color                                  Measurements  \n",
       "0    yellow    Unknown  {'Height': '203.0 cm', 'Weight': '441.0 kg'}  \n",
       "1      blue       blue   {'Height': '191.0 cm', 'Weight': '65.0 kg'}  "
      ]
     },
     "execution_count": 7,
     "metadata": {},
     "output_type": "execute_result"
    }
   ],
   "source": [
    "df_info = df_info[['Hero', 'Publisher', 'Gender', 'Race', 'Alignment', 'Hair color', 'Eye color', 'Skin color', 'Measurements']]\n",
    "df_info.head(2)"
   ]
  },
  {
   "cell_type": "markdown",
   "id": "88bcc1ed",
   "metadata": {},
   "source": [
    "### Split 'Measurements' Column"
   ]
  },
  {
   "cell_type": "code",
   "execution_count": 8,
   "id": "01a1ceed",
   "metadata": {},
   "outputs": [
    {
     "data": {
      "text/plain": [
       "str"
      ]
     },
     "execution_count": 8,
     "metadata": {},
     "output_type": "execute_result"
    }
   ],
   "source": [
    "type(df_info['Measurements'][0])"
   ]
  },
  {
   "cell_type": "code",
   "execution_count": 9,
   "id": "3627463d",
   "metadata": {},
   "outputs": [
    {
     "data": {
      "text/plain": [
       "0      {\"Height\": \"203.0 cm\", \"Weight\": \"441.0 kg\"}\n",
       "1       {\"Height\": \"191.0 cm\", \"Weight\": \"65.0 kg\"}\n",
       "2       {\"Height\": \"185.0 cm\", \"Weight\": \"90.0 kg\"}\n",
       "3      {\"Height\": \"203.0 cm\", \"Weight\": \"441.0 kg\"}\n",
       "4      {\"Height\": \"193.0 cm\", \"Weight\": \"122.0 kg\"}\n",
       "                           ...                     \n",
       "458     {\"Height\": \"183.0 cm\", \"Weight\": \"83.0 kg\"}\n",
       "459     {\"Height\": \"165.0 cm\", \"Weight\": \"52.0 kg\"}\n",
       "460      {\"Height\": \"66.0 cm\", \"Weight\": \"17.0 kg\"}\n",
       "461     {\"Height\": \"170.0 cm\", \"Weight\": \"57.0 kg\"}\n",
       "462     {\"Height\": \"185.0 cm\", \"Weight\": \"81.0 kg\"}\n",
       "Name: Measurements, Length: 463, dtype: object"
      ]
     },
     "execution_count": 9,
     "metadata": {},
     "output_type": "execute_result"
    }
   ],
   "source": [
    "df_info['Measurements'] = df_info['Measurements'].str.replace(\"'\", '\"')\n",
    "df_info['Measurements']"
   ]
  },
  {
   "cell_type": "code",
   "execution_count": 10,
   "id": "047b16fa",
   "metadata": {},
   "outputs": [
    {
     "data": {
      "text/plain": [
       "0    {'Height': '203.0 cm', 'Weight': '441.0 kg'}\n",
       "1     {'Height': '191.0 cm', 'Weight': '65.0 kg'}\n",
       "Name: Measurements, dtype: object"
      ]
     },
     "execution_count": 10,
     "metadata": {},
     "output_type": "execute_result"
    }
   ],
   "source": [
    "df_info['Measurements'] = df_info['Measurements'].apply(json.loads)\n",
    "df_info['Measurements'].head(2)"
   ]
  },
  {
   "cell_type": "code",
   "execution_count": 11,
   "id": "e3ffea35",
   "metadata": {},
   "outputs": [
    {
     "data": {
      "text/plain": [
       "dict"
      ]
     },
     "execution_count": 11,
     "metadata": {},
     "output_type": "execute_result"
    }
   ],
   "source": [
    "type(df_info['Measurements'][0])"
   ]
  },
  {
   "cell_type": "code",
   "execution_count": 12,
   "id": "2457747e",
   "metadata": {},
   "outputs": [
    {
     "data": {
      "text/html": [
       "<div>\n",
       "<style scoped>\n",
       "    .dataframe tbody tr th:only-of-type {\n",
       "        vertical-align: middle;\n",
       "    }\n",
       "\n",
       "    .dataframe tbody tr th {\n",
       "        vertical-align: top;\n",
       "    }\n",
       "\n",
       "    .dataframe thead th {\n",
       "        text-align: right;\n",
       "    }\n",
       "</style>\n",
       "<table border=\"1\" class=\"dataframe\">\n",
       "  <thead>\n",
       "    <tr style=\"text-align: right;\">\n",
       "      <th></th>\n",
       "      <th>Height</th>\n",
       "      <th>Weight</th>\n",
       "    </tr>\n",
       "  </thead>\n",
       "  <tbody>\n",
       "    <tr>\n",
       "      <th>0</th>\n",
       "      <td>203.0 cm</td>\n",
       "      <td>441.0 kg</td>\n",
       "    </tr>\n",
       "    <tr>\n",
       "      <th>1</th>\n",
       "      <td>191.0 cm</td>\n",
       "      <td>65.0 kg</td>\n",
       "    </tr>\n",
       "    <tr>\n",
       "      <th>2</th>\n",
       "      <td>185.0 cm</td>\n",
       "      <td>90.0 kg</td>\n",
       "    </tr>\n",
       "    <tr>\n",
       "      <th>3</th>\n",
       "      <td>203.0 cm</td>\n",
       "      <td>441.0 kg</td>\n",
       "    </tr>\n",
       "    <tr>\n",
       "      <th>4</th>\n",
       "      <td>193.0 cm</td>\n",
       "      <td>122.0 kg</td>\n",
       "    </tr>\n",
       "    <tr>\n",
       "      <th>...</th>\n",
       "      <td>...</td>\n",
       "      <td>...</td>\n",
       "    </tr>\n",
       "    <tr>\n",
       "      <th>458</th>\n",
       "      <td>183.0 cm</td>\n",
       "      <td>83.0 kg</td>\n",
       "    </tr>\n",
       "    <tr>\n",
       "      <th>459</th>\n",
       "      <td>165.0 cm</td>\n",
       "      <td>52.0 kg</td>\n",
       "    </tr>\n",
       "    <tr>\n",
       "      <th>460</th>\n",
       "      <td>66.0 cm</td>\n",
       "      <td>17.0 kg</td>\n",
       "    </tr>\n",
       "    <tr>\n",
       "      <th>461</th>\n",
       "      <td>170.0 cm</td>\n",
       "      <td>57.0 kg</td>\n",
       "    </tr>\n",
       "    <tr>\n",
       "      <th>462</th>\n",
       "      <td>185.0 cm</td>\n",
       "      <td>81.0 kg</td>\n",
       "    </tr>\n",
       "  </tbody>\n",
       "</table>\n",
       "<p>463 rows × 2 columns</p>\n",
       "</div>"
      ],
      "text/plain": [
       "       Height    Weight\n",
       "0    203.0 cm  441.0 kg\n",
       "1    191.0 cm   65.0 kg\n",
       "2    185.0 cm   90.0 kg\n",
       "3    203.0 cm  441.0 kg\n",
       "4    193.0 cm  122.0 kg\n",
       "..        ...       ...\n",
       "458  183.0 cm   83.0 kg\n",
       "459  165.0 cm   52.0 kg\n",
       "460   66.0 cm   17.0 kg\n",
       "461  170.0 cm   57.0 kg\n",
       "462  185.0 cm   81.0 kg\n",
       "\n",
       "[463 rows x 2 columns]"
      ]
     },
     "execution_count": 12,
     "metadata": {},
     "output_type": "execute_result"
    }
   ],
   "source": [
    "height_weight = df_info['Measurements'].apply(pd.Series)\n",
    "height_weight"
   ]
  },
  {
   "cell_type": "code",
   "execution_count": 13,
   "id": "a307683d",
   "metadata": {},
   "outputs": [
    {
     "data": {
      "text/html": [
       "<div>\n",
       "<style scoped>\n",
       "    .dataframe tbody tr th:only-of-type {\n",
       "        vertical-align: middle;\n",
       "    }\n",
       "\n",
       "    .dataframe tbody tr th {\n",
       "        vertical-align: top;\n",
       "    }\n",
       "\n",
       "    .dataframe thead th {\n",
       "        text-align: right;\n",
       "    }\n",
       "</style>\n",
       "<table border=\"1\" class=\"dataframe\">\n",
       "  <thead>\n",
       "    <tr style=\"text-align: right;\">\n",
       "      <th></th>\n",
       "      <th>Hero</th>\n",
       "      <th>Publisher</th>\n",
       "      <th>Gender</th>\n",
       "      <th>Race</th>\n",
       "      <th>Alignment</th>\n",
       "      <th>Hair color</th>\n",
       "      <th>Eye color</th>\n",
       "      <th>Skin color</th>\n",
       "      <th>Measurements</th>\n",
       "      <th>Height</th>\n",
       "      <th>Weight</th>\n",
       "    </tr>\n",
       "  </thead>\n",
       "  <tbody>\n",
       "    <tr>\n",
       "      <th>0</th>\n",
       "      <td>A-Bomb</td>\n",
       "      <td>Marvel Comics</td>\n",
       "      <td>Male</td>\n",
       "      <td>Human</td>\n",
       "      <td>good</td>\n",
       "      <td>No Hair</td>\n",
       "      <td>yellow</td>\n",
       "      <td>Unknown</td>\n",
       "      <td>{'Height': '203.0 cm', 'Weight': '441.0 kg'}</td>\n",
       "      <td>203.0 cm</td>\n",
       "      <td>441.0 kg</td>\n",
       "    </tr>\n",
       "    <tr>\n",
       "      <th>1</th>\n",
       "      <td>Abe Sapien</td>\n",
       "      <td>Dark Horse Comics</td>\n",
       "      <td>Male</td>\n",
       "      <td>Icthyo Sapien</td>\n",
       "      <td>good</td>\n",
       "      <td>No Hair</td>\n",
       "      <td>blue</td>\n",
       "      <td>blue</td>\n",
       "      <td>{'Height': '191.0 cm', 'Weight': '65.0 kg'}</td>\n",
       "      <td>191.0 cm</td>\n",
       "      <td>65.0 kg</td>\n",
       "    </tr>\n",
       "  </tbody>\n",
       "</table>\n",
       "</div>"
      ],
      "text/plain": [
       "         Hero          Publisher Gender           Race Alignment Hair color  \\\n",
       "0      A-Bomb      Marvel Comics   Male          Human      good    No Hair   \n",
       "1  Abe Sapien  Dark Horse Comics   Male  Icthyo Sapien      good    No Hair   \n",
       "\n",
       "  Eye color Skin color                                  Measurements  \\\n",
       "0    yellow    Unknown  {'Height': '203.0 cm', 'Weight': '441.0 kg'}   \n",
       "1      blue       blue   {'Height': '191.0 cm', 'Weight': '65.0 kg'}   \n",
       "\n",
       "     Height    Weight  \n",
       "0  203.0 cm  441.0 kg  \n",
       "1  191.0 cm   65.0 kg  "
      ]
     },
     "execution_count": 13,
     "metadata": {},
     "output_type": "execute_result"
    }
   ],
   "source": [
    "df_info = pd.concat((df_info, height_weight), axis=1)\n",
    "df_info.head(2)"
   ]
  },
  {
   "cell_type": "code",
   "execution_count": 14,
   "id": "f93c3687",
   "metadata": {},
   "outputs": [
    {
     "data": {
      "text/html": [
       "<div>\n",
       "<style scoped>\n",
       "    .dataframe tbody tr th:only-of-type {\n",
       "        vertical-align: middle;\n",
       "    }\n",
       "\n",
       "    .dataframe tbody tr th {\n",
       "        vertical-align: top;\n",
       "    }\n",
       "\n",
       "    .dataframe thead th {\n",
       "        text-align: right;\n",
       "    }\n",
       "</style>\n",
       "<table border=\"1\" class=\"dataframe\">\n",
       "  <thead>\n",
       "    <tr style=\"text-align: right;\">\n",
       "      <th></th>\n",
       "      <th>Hero</th>\n",
       "      <th>Publisher</th>\n",
       "      <th>Gender</th>\n",
       "      <th>Race</th>\n",
       "      <th>Alignment</th>\n",
       "      <th>Hair color</th>\n",
       "      <th>Eye color</th>\n",
       "      <th>Skin color</th>\n",
       "      <th>Height</th>\n",
       "      <th>Weight</th>\n",
       "    </tr>\n",
       "  </thead>\n",
       "  <tbody>\n",
       "    <tr>\n",
       "      <th>0</th>\n",
       "      <td>A-Bomb</td>\n",
       "      <td>Marvel Comics</td>\n",
       "      <td>Male</td>\n",
       "      <td>Human</td>\n",
       "      <td>good</td>\n",
       "      <td>No Hair</td>\n",
       "      <td>yellow</td>\n",
       "      <td>Unknown</td>\n",
       "      <td>203.0 cm</td>\n",
       "      <td>441.0 kg</td>\n",
       "    </tr>\n",
       "    <tr>\n",
       "      <th>1</th>\n",
       "      <td>Abe Sapien</td>\n",
       "      <td>Dark Horse Comics</td>\n",
       "      <td>Male</td>\n",
       "      <td>Icthyo Sapien</td>\n",
       "      <td>good</td>\n",
       "      <td>No Hair</td>\n",
       "      <td>blue</td>\n",
       "      <td>blue</td>\n",
       "      <td>191.0 cm</td>\n",
       "      <td>65.0 kg</td>\n",
       "    </tr>\n",
       "  </tbody>\n",
       "</table>\n",
       "</div>"
      ],
      "text/plain": [
       "         Hero          Publisher Gender           Race Alignment Hair color  \\\n",
       "0      A-Bomb      Marvel Comics   Male          Human      good    No Hair   \n",
       "1  Abe Sapien  Dark Horse Comics   Male  Icthyo Sapien      good    No Hair   \n",
       "\n",
       "  Eye color Skin color    Height    Weight  \n",
       "0    yellow    Unknown  203.0 cm  441.0 kg  \n",
       "1      blue       blue  191.0 cm   65.0 kg  "
      ]
     },
     "execution_count": 14,
     "metadata": {},
     "output_type": "execute_result"
    }
   ],
   "source": [
    "df_info.drop(columns='Measurements', inplace=True)\n",
    "df_info.head(2)"
   ]
  },
  {
   "cell_type": "markdown",
   "id": "c554b635",
   "metadata": {},
   "source": [
    "### Convert 'Height' and 'Weight' to Numeric Type"
   ]
  },
  {
   "cell_type": "code",
   "execution_count": 15,
   "id": "6b9f8823",
   "metadata": {},
   "outputs": [
    {
     "data": {
      "text/html": [
       "<div>\n",
       "<style scoped>\n",
       "    .dataframe tbody tr th:only-of-type {\n",
       "        vertical-align: middle;\n",
       "    }\n",
       "\n",
       "    .dataframe tbody tr th {\n",
       "        vertical-align: top;\n",
       "    }\n",
       "\n",
       "    .dataframe thead th {\n",
       "        text-align: right;\n",
       "    }\n",
       "</style>\n",
       "<table border=\"1\" class=\"dataframe\">\n",
       "  <thead>\n",
       "    <tr style=\"text-align: right;\">\n",
       "      <th></th>\n",
       "      <th>Hero</th>\n",
       "      <th>Publisher</th>\n",
       "      <th>Gender</th>\n",
       "      <th>Race</th>\n",
       "      <th>Alignment</th>\n",
       "      <th>Hair color</th>\n",
       "      <th>Eye color</th>\n",
       "      <th>Skin color</th>\n",
       "      <th>Height (cm)</th>\n",
       "      <th>Weight (kg)</th>\n",
       "    </tr>\n",
       "  </thead>\n",
       "  <tbody>\n",
       "    <tr>\n",
       "      <th>0</th>\n",
       "      <td>A-Bomb</td>\n",
       "      <td>Marvel Comics</td>\n",
       "      <td>Male</td>\n",
       "      <td>Human</td>\n",
       "      <td>good</td>\n",
       "      <td>No Hair</td>\n",
       "      <td>yellow</td>\n",
       "      <td>Unknown</td>\n",
       "      <td>203.0 cm</td>\n",
       "      <td>441.0 kg</td>\n",
       "    </tr>\n",
       "    <tr>\n",
       "      <th>1</th>\n",
       "      <td>Abe Sapien</td>\n",
       "      <td>Dark Horse Comics</td>\n",
       "      <td>Male</td>\n",
       "      <td>Icthyo Sapien</td>\n",
       "      <td>good</td>\n",
       "      <td>No Hair</td>\n",
       "      <td>blue</td>\n",
       "      <td>blue</td>\n",
       "      <td>191.0 cm</td>\n",
       "      <td>65.0 kg</td>\n",
       "    </tr>\n",
       "  </tbody>\n",
       "</table>\n",
       "</div>"
      ],
      "text/plain": [
       "         Hero          Publisher Gender           Race Alignment Hair color  \\\n",
       "0      A-Bomb      Marvel Comics   Male          Human      good    No Hair   \n",
       "1  Abe Sapien  Dark Horse Comics   Male  Icthyo Sapien      good    No Hair   \n",
       "\n",
       "  Eye color Skin color Height (cm) Weight (kg)  \n",
       "0    yellow    Unknown    203.0 cm    441.0 kg  \n",
       "1      blue       blue    191.0 cm     65.0 kg  "
      ]
     },
     "execution_count": 15,
     "metadata": {},
     "output_type": "execute_result"
    }
   ],
   "source": [
    "df_info.rename(columns={'Height': 'Height (cm)', 'Weight': 'Weight (kg)'},\n",
    "              inplace=True)\n",
    "df_info.head(2)"
   ]
  },
  {
   "cell_type": "markdown",
   "id": "380047c7",
   "metadata": {},
   "source": [
    "#### Height"
   ]
  },
  {
   "cell_type": "code",
   "execution_count": 16,
   "id": "b67aca7b",
   "metadata": {},
   "outputs": [
    {
     "data": {
      "text/plain": [
       "str"
      ]
     },
     "execution_count": 16,
     "metadata": {},
     "output_type": "execute_result"
    }
   ],
   "source": [
    "type(df_info['Height (cm)'][0])"
   ]
  },
  {
   "cell_type": "code",
   "execution_count": null,
   "id": "386b11d7",
   "metadata": {},
   "outputs": [],
   "source": [
    "# remove empty space and 'cm' from 'Height (cm)'\n",
    "\n",
    "to_replace = [' ', 'cm']\n",
    "\n",
    "for char in to_replace:\n",
    "    df_info['Height (cm)'] = df_info['Height (cm)'].str.replace(char, '', regex=False)\n",
    "df_info.head(2)"
   ]
  },
  {
   "cell_type": "code",
   "execution_count": null,
   "id": "902ec273",
   "metadata": {},
   "outputs": [],
   "source": [
    "type(df_info['Height (cm)'][0])"
   ]
  },
  {
   "cell_type": "code",
   "execution_count": null,
   "id": "c31b1152",
   "metadata": {},
   "outputs": [],
   "source": [
    "df_info['Height (cm)'] = df_info['Height (cm)'].astype('float')\n",
    "type(df_info['Height (cm)'][0])"
   ]
  },
  {
   "cell_type": "markdown",
   "id": "67502769",
   "metadata": {},
   "source": [
    "#### Weight"
   ]
  },
  {
   "cell_type": "code",
   "execution_count": null,
   "id": "d307f27c",
   "metadata": {},
   "outputs": [],
   "source": [
    "type(df_info['Weight (kg)'][0])"
   ]
  },
  {
   "cell_type": "code",
   "execution_count": null,
   "id": "efeb463c",
   "metadata": {},
   "outputs": [],
   "source": [
    "# remove empty space and 'cm' from 'Height (cm)'\n",
    "\n",
    "to_replace = [' ', 'kg']\n",
    "\n",
    "for char in to_replace:\n",
    "    df_info['Weight (kg)'] = df_info['Weight (kg)'].str.replace(char, '', regex=False)\n",
    "df_info.head(2)"
   ]
  },
  {
   "cell_type": "code",
   "execution_count": null,
   "id": "42c4ff61",
   "metadata": {},
   "outputs": [],
   "source": [
    "df_info['Weight (kg)'] = df_info['Weight (kg)'].astype('float')\n",
    "type(df_info['Weight (kg)'][0])"
   ]
  },
  {
   "cell_type": "markdown",
   "id": "9709168e",
   "metadata": {},
   "source": [
    "## Superhero_Powers DataFrame"
   ]
  },
  {
   "cell_type": "code",
   "execution_count": null,
   "id": "788f104f",
   "metadata": {},
   "outputs": [],
   "source": [
    "df_powers.head(2)"
   ]
  },
  {
   "cell_type": "code",
   "execution_count": null,
   "id": "7d57fc9b",
   "metadata": {},
   "outputs": [],
   "source": [
    "print(type(df_powers['Powers'][0]))\n",
    "df_powers['Powers'][0]"
   ]
  },
  {
   "cell_type": "markdown",
   "id": "0bfd798a",
   "metadata": {},
   "source": [
    "### Convert 'Powers' to List"
   ]
  },
  {
   "cell_type": "code",
   "execution_count": null,
   "id": "ae990112",
   "metadata": {},
   "outputs": [],
   "source": [
    "df_powers['Powers_Split'] = df_powers['Powers'].str.split(',')"
   ]
  },
  {
   "cell_type": "code",
   "execution_count": null,
   "id": "a86e1240",
   "metadata": {},
   "outputs": [],
   "source": [
    "df_powers.head(2)"
   ]
  },
  {
   "cell_type": "code",
   "execution_count": null,
   "id": "a62951f2",
   "metadata": {},
   "outputs": [],
   "source": [
    "print(type(df_powers['Powers_Split'][0]))\n",
    "df_powers['Powers_Split']"
   ]
  },
  {
   "cell_type": "markdown",
   "id": "6051ec41",
   "metadata": {},
   "source": [
    "### One-Hot-Encode 'Powers'"
   ]
  },
  {
   "cell_type": "code",
   "execution_count": null,
   "id": "8d0bcf14",
   "metadata": {},
   "outputs": [],
   "source": [
    "df_powers['Powers_Split'].value_counts()"
   ]
  },
  {
   "cell_type": "code",
   "execution_count": null,
   "id": "a87d7bde",
   "metadata": {},
   "outputs": [],
   "source": [
    "## exploding the column of lists\n",
    "exploded = df_powers.explode('Powers_Split')\n",
    "exploded.head(5)"
   ]
  },
  {
   "cell_type": "code",
   "execution_count": null,
   "id": "a3a40102",
   "metadata": {},
   "outputs": [],
   "source": [
    "## dropping null values first\n",
    "## saving the unique values from the exploded column\n",
    "cols_to_make = exploded['Powers_Split'].dropna().unique()\n",
    "cols_to_make"
   ]
  },
  {
   "cell_type": "code",
   "execution_count": null,
   "id": "1563342b",
   "metadata": {},
   "outputs": [],
   "source": [
    "# making new column for each unique power from 'Power_Split' column\n",
    "# checking with original 'Powers' column for True or False\n",
    "\n",
    "for col in cols_to_make:\n",
    "    df_powers[col] = df_powers['Powers'].str.contains(col)\n",
    "df_powers.head()"
   ]
  },
  {
   "cell_type": "code",
   "execution_count": null,
   "id": "7b07c55f",
   "metadata": {},
   "outputs": [],
   "source": [
    "df_powers.drop(columns=['Powers', 'Powers_Split'], inplace=True)\n",
    "df_powers.head(2)"
   ]
  },
  {
   "cell_type": "markdown",
   "id": "a3032b41",
   "metadata": {},
   "source": [
    "## Combine Into One Dataframe"
   ]
  },
  {
   "cell_type": "code",
   "execution_count": null,
   "id": "4fa849d9",
   "metadata": {},
   "outputs": [],
   "source": [
    "df_final = pd.merge(df_info, df_powers, left_on='Hero', right_on='hero_names')\n",
    "df_final.head(2)"
   ]
  },
  {
   "cell_type": "markdown",
   "id": "876506f0",
   "metadata": {},
   "source": [
    "#### Drop 'hero_names' Since It's a Duplicate of 'Hero'"
   ]
  },
  {
   "cell_type": "code",
   "execution_count": null,
   "id": "2c51d284",
   "metadata": {},
   "outputs": [],
   "source": [
    "df_final.drop(columns='hero_names', inplace=True)\n",
    "df_final.head(2)"
   ]
  },
  {
   "cell_type": "markdown",
   "id": "1af6541d",
   "metadata": {},
   "source": [
    "# Part 2: Answer Questions"
   ]
  },
  {
   "cell_type": "markdown",
   "id": "eae587da",
   "metadata": {},
   "source": [
    "## 1. Compare the average weight of super powers (heroes?) who have Super Speed to those who do not."
   ]
  },
  {
   "cell_type": "code",
   "execution_count": null,
   "id": "ccc36d9f",
   "metadata": {},
   "outputs": [],
   "source": [
    "np.where(cols_to_make == 'Super Speed')"
   ]
  },
  {
   "cell_type": "code",
   "execution_count": null,
   "id": "3161a1d7",
   "metadata": {},
   "outputs": [],
   "source": [
    "heroes_speed = df_final['Super Speed'] == True\n",
    "df_speed = df_final[heroes_speed]\n",
    "df_speed"
   ]
  },
  {
   "cell_type": "code",
   "execution_count": null,
   "id": "0f1199ca",
   "metadata": {},
   "outputs": [],
   "source": [
    "df_not_speed = df_final[~heroes_speed]\n",
    "df_not_speed"
   ]
  },
  {
   "cell_type": "code",
   "execution_count": null,
   "id": "197f8a29",
   "metadata": {},
   "outputs": [],
   "source": [
    "avg_speed_weight = df_speed['Weight (kg)'].mean().round(2)\n",
    "avg_not_speed_weight = df_not_speed['Weight (kg)'].mean().round(2)\n",
    "print(avg_speed_weight)\n",
    "print(avg_not_speed_weight)"
   ]
  },
  {
   "cell_type": "code",
   "execution_count": null,
   "id": "d44de30a",
   "metadata": {},
   "outputs": [],
   "source": [
    "print(f'The average weight (kg) for Super Heroes that have \"Super Speed\" is \\\n",
    "{avg_speed_weight} compared to the average weight of Super Heroes that don\\'t \\\n",
    "{avg_not_speed_weight}')\n",
    "print(f'On average, \"Super Speed\" Super Heroes weigh \\\n",
    "{(avg_speed_weight-avg_not_speed_weight).round(2)} kg \\\n",
    "more.')"
   ]
  },
  {
   "cell_type": "code",
   "execution_count": null,
   "id": "c1753377",
   "metadata": {},
   "outputs": [],
   "source": [
    "speed_dict = {'Have Super Speed': avg_speed_weight,\n",
    "             'Do Not Have Super Speed': avg_not_speed_weight}"
   ]
  },
  {
   "cell_type": "code",
   "execution_count": null,
   "id": "9defc2ec",
   "metadata": {},
   "outputs": [],
   "source": [
    "plt.bar(speed_dict.keys(), speed_dict.values())\n",
    "plt.xlabel('Fast or Slow')\n",
    "plt.ylabel('Average Weight (kg)')\n",
    "plt.title('Average Weight (kg) of Fast and Slow Super Heroes');"
   ]
  },
  {
   "cell_type": "markdown",
   "id": "9a8b58ba",
   "metadata": {},
   "source": [
    "## 2. What is the average height of heroes for each publisher?"
   ]
  },
  {
   "cell_type": "code",
   "execution_count": null,
   "id": "f3732f83",
   "metadata": {},
   "outputs": [],
   "source": [
    "publisher_height = df_final.groupby('Publisher')['Height (cm)'].mean().sort_values(ascending=False)\n",
    "publisher_height"
   ]
  },
  {
   "cell_type": "code",
   "execution_count": null,
   "id": "a7b2da43",
   "metadata": {},
   "outputs": [],
   "source": [
    "fig, ax = plt.subplots(figsize=(10, 5))\n",
    "\n",
    "ax = plt.bar(publisher_height.index, publisher_height.values)\n",
    "plt.xticks(rotation=45)\n",
    "plt.grid(axis='y')\n",
    "\n",
    "plt.xlabel('Publisher')\n",
    "plt.ylabel('Average Height (cm)')\n",
    "plt.title('Average Height (cm) per Publisher');"
   ]
  },
  {
   "cell_type": "code",
   "execution_count": null,
   "id": "26b2c300",
   "metadata": {},
   "outputs": [],
   "source": []
  }
 ],
 "metadata": {
  "kernelspec": {
   "display_name": "Python (dojo-env)",
   "language": "python",
   "name": "dojo-env"
  },
  "language_info": {
   "codemirror_mode": {
    "name": "ipython",
    "version": 3
   },
   "file_extension": ".py",
   "mimetype": "text/x-python",
   "name": "python",
   "nbconvert_exporter": "python",
   "pygments_lexer": "ipython3",
   "version": "3.9.15"
  },
  "toc": {
   "base_numbering": 1,
   "nav_menu": {},
   "number_sections": false,
   "sideBar": true,
   "skip_h1_title": false,
   "title_cell": "Table of Contents",
   "title_sidebar": "Contents",
   "toc_cell": false,
   "toc_position": {
    "height": "calc(100% - 180px)",
    "left": "10px",
    "top": "150px",
    "width": "259.24px"
   },
   "toc_section_display": true,
   "toc_window_display": true
  },
  "varInspector": {
   "cols": {
    "lenName": 16,
    "lenType": 16,
    "lenVar": 40
   },
   "kernels_config": {
    "python": {
     "delete_cmd_postfix": "",
     "delete_cmd_prefix": "del ",
     "library": "var_list.py",
     "varRefreshCmd": "print(var_dic_list())"
    },
    "r": {
     "delete_cmd_postfix": ") ",
     "delete_cmd_prefix": "rm(",
     "library": "var_list.r",
     "varRefreshCmd": "cat(var_dic_list()) "
    }
   },
   "types_to_exclude": [
    "module",
    "function",
    "builtin_function_or_method",
    "instance",
    "_Feature"
   ],
   "window_display": false
  }
 },
 "nbformat": 4,
 "nbformat_minor": 5
}
